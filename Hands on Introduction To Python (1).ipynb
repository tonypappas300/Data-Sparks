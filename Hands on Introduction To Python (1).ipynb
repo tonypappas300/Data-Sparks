{
 "cells": [
  {
   "cell_type": "markdown",
   "metadata": {
    "id": "kiNKLzKnMLs5"
   },
   "source": [
    "#### *This document will follow along with todays lab in order to teach the basics of programming using python. You can and are encouraged to keep this material to reference back to. <br>*\n",
    "\n",
    "*Programming languages such as python, are just that: a language. The syntax depends on the language you're speaking, but in programming it's a shallow detail that can be looked up when needed. Over time, and with practice it will become natural. What's far more important is __understanding__ the language and and the meaning that emerges from the structure. Programmers must be able to put pieces together in elaborate and often creative ways to generate meaningful code, much like a writer must be elaborate in their story telling through plots and theming to create an elaborate and meaningful narative.*"
   ]
  },
  {
   "cell_type": "markdown",
   "metadata": {
    "id": "Jgej-BETMLs9"
   },
   "source": [
    "## The Building Blocks of Python Code:"
   ]
  },
  {
   "cell_type": "markdown",
   "metadata": {
    "id": "-BqZF0n6MLs9"
   },
   "source": [
    "### Data Types and Variables"
   ]
  },
  {
   "cell_type": "markdown",
   "metadata": {
    "id": "WdqZuo4VMLs-"
   },
   "source": [
    "Python has several built in data types, that together can be combined and operated on to program almost anything\n",
    "The most common types are:\n",
    "\n",
    "    - 'bool'     | a binary value, only ever 'True' or 'False'\n",
    "    - 'float'    | any number like 1, 2, 3, -1, 0, 0.5, -4.1, 845345.9, 3.14159, etc.\n",
    "    - 'strings'  | these are like words, they are 'strings' of characters put together, or single characters\n",
    "\n",
    "These data types are often stored into 'variables', which we can give any name to.\n",
    "Python automatically detects the data type you are assigning a variable"
   ]
  },
  {
   "cell_type": "markdown",
   "metadata": {
    "id": "1iG1c2MmMLs-"
   },
   "source": [
    "The following code assigns a Boolean value of True to a variable we name 'my_bool'\n",
    "- Select the text in the cell so that the left marigin is green and press 'shift-enter' to run it, this will tell the IDE that it has a new variable to keep track of so you can use it later"
   ]
  },
  {
   "cell_type": "code",
   "execution_count": null,
   "metadata": {
    "id": "s0uIq27aMLs_"
   },
   "outputs": [],
   "source": [
    "my_bool = True"
   ]
  },
  {
   "cell_type": "markdown",
   "metadata": {
    "id": "Mlgi_tEOMLs_"
   },
   "source": [
    "You can check the value of any variable in your workspace by running a cell that has that variable name\n",
    "    press 'shift+enter' after selecting the cell below to run it, try it on the cell below, a new line will appear beneath that should say\n",
    "    - Out[#]: True\n",
    "Note: a number will appear in the bracket, the number depends on how many cells you've previously run, if the value in the bracket is '*' then that cell is still running"
   ]
  },
  {
   "cell_type": "code",
   "execution_count": null,
   "metadata": {
    "id": "zfmjFE8aMLtA",
    "outputId": "be2f84db-0c27-495f-e42b-7040632eed4d"
   },
   "outputs": [
    {
     "data": {
      "text/plain": [
       "True"
      ]
     },
     "execution_count": 2,
     "metadata": {
      "tags": []
     },
     "output_type": "execute_result"
    }
   ],
   "source": [
    "my_bool"
   ]
  },
  {
   "cell_type": "markdown",
   "metadata": {
    "id": "_6-izH_UMLtB"
   },
   "source": [
    "You can re-assign a varaible to a new value the same way you originally assigned it, this is a tool you can use but be cautious: previous cells will use this updated value too, run the cell below to make 'my_bool\" false, and then re run the cell above this. Use the numbers that appear in the brackets on the left to see the order that the code has run in."
   ]
  },
  {
   "cell_type": "code",
   "execution_count": null,
   "metadata": {
    "id": "Jwu2VjveMLtC"
   },
   "outputs": [],
   "source": [
    "my_bool = False"
   ]
  },
  {
   "cell_type": "markdown",
   "metadata": {
    "id": "GLnAIXolMLtC"
   },
   "source": [
    "Variables can be set to be any of the data types mentioned above (as well as custom data types but we'll get to that later)"
   ]
  },
  {
   "cell_type": "code",
   "execution_count": null,
   "metadata": {
    "id": "-4VLvXDSMLtD"
   },
   "outputs": [],
   "source": [
    "my_float = 0.5\n",
    "my_string = 'NSLC'"
   ]
  },
  {
   "cell_type": "markdown",
   "metadata": {
    "id": "dsBm6U30MLtD"
   },
   "source": [
    "Note that you can run several lines of code in a single cell. When the cell is run, it will run each line in order from top to bottom"
   ]
  },
  {
   "cell_type": "markdown",
   "metadata": {
    "id": "5yZMzSUVMLtD"
   },
   "source": [
    "In the cell below, try calling the values of the different variable types defined above, do them one at a time, re-running the cell each time, the first one is typed for you"
   ]
  },
  {
   "cell_type": "code",
   "execution_count": null,
   "metadata": {
    "id": "tMlhP7xtMLtE"
   },
   "outputs": [],
   "source": [
    "my_bool"
   ]
  },
  {
   "cell_type": "markdown",
   "metadata": {
    "id": "5A5db6DPMLtE"
   },
   "source": [
    "### Math in Python"
   ]
  },
  {
   "cell_type": "markdown",
   "metadata": {
    "id": "spXItxY4MLtE"
   },
   "source": [
    "Numbers (floats) can have basic math done on them:"
   ]
  },
  {
   "cell_type": "code",
   "execution_count": null,
   "metadata": {
    "id": "NisIcC1GMLtE",
    "outputId": "420528a7-441e-4ce1-d5f8-bd7af3bd24e0"
   },
   "outputs": [
    {
     "name": "stdout",
     "output_type": "stream",
     "text": [
      "8 plus 4 is 12\n",
      "8 minus 4 is 4\n",
      "8 multiplied by 4 is 32\n",
      "8 divided by 4 is 2.0\n",
      "8 to the power of 4 is 4096\n"
     ]
    }
   ],
   "source": [
    "print('8 plus 4 is', 8+4)\n",
    "print('8 minus 4 is', 8-4)\n",
    "print('8 multiplied by 4 is', 8*4)\n",
    "print('8 divided by 4 is', 8/4)\n",
    "print('8 to the power of 4 is', 8**4) #using '**' is how python denotes 'to the power of' "
   ]
  },
  {
   "cell_type": "markdown",
   "metadata": {
    "id": "Csvt-6Q2MLtE"
   },
   "source": [
    "Notice the print() fucntion used to output the results, it takes what is inside the parenthesis and converts them to strings and outputs it. If we only did the math opperations one after the other in the same cell, it would only output the last value. Notice that the number type values are separtated from the string we passed in with a comma"
   ]
  },
  {
   "cell_type": "markdown",
   "metadata": {
    "id": "FKVURINvMLtF"
   },
   "source": [
    "We can use variables as well as explicit numbers too:"
   ]
  },
  {
   "cell_type": "code",
   "execution_count": null,
   "metadata": {
    "id": "OncRZoQkMLtG",
    "outputId": "990d97a8-ddf6-4e89-be32-2ee1b6a56cb5"
   },
   "outputs": [
    {
     "name": "stdout",
     "output_type": "stream",
     "text": [
      "a plus b is 7\n",
      "a minus b is -1\n",
      "a times b is 12\n",
      "a divided by b is 0.75\n"
     ]
    }
   ],
   "source": [
    "a = 3\n",
    "b = 4\n",
    "\n",
    "print('a plus b is', a+b)\n",
    "print('a minus b is', a-b)\n",
    "print('a times b is', a*b)\n",
    "print('a divided by b is', a/b)"
   ]
  },
  {
   "cell_type": "markdown",
   "metadata": {
    "id": "m-kORU2WMLtG"
   },
   "source": [
    "Parenthesis can be used to define the order of operations if many operations need to be done:"
   ]
  },
  {
   "cell_type": "code",
   "execution_count": null,
   "metadata": {
    "id": "dfAD1wfwMLtH",
    "outputId": "1165c401-ad08-4105-c12a-dd7bc83e3e62"
   },
   "outputs": [
    {
     "name": "stdout",
     "output_type": "stream",
     "text": [
      "0.5714285714285714 if you add before you divide vs 4.0 if you add after you divide\n"
     ]
    }
   ],
   "source": [
    "print(4/(4+3), 'if you add before you divide vs' , 4/4+3, 'if you add after you divide')"
   ]
  },
  {
   "cell_type": "markdown",
   "metadata": {
    "id": "nxXOrtaWMLtI"
   },
   "source": [
    "Try your hand at the parenthesis by finding the answer to the following:<br>\n",
    "What is the square of the fraction one-hundred over seven, added to the value of eighty-seven minus the fraction six over four?"
   ]
  },
  {
   "cell_type": "code",
   "execution_count": null,
   "metadata": {
    "id": "DNDaZllLMLtJ"
   },
   "outputs": [],
   "source": [
    "#have python do the work for you, ans:289.5816326530612\n"
   ]
  },
  {
   "cell_type": "markdown",
   "metadata": {
    "id": "N3BDfMnFMLtK"
   },
   "source": [
    "variables can be assigned from mathmatical operations as well, here's an example of Pythagoreans Theorem:"
   ]
  },
  {
   "cell_type": "code",
   "execution_count": null,
   "metadata": {
    "id": "nrGz3Zu8MLtL",
    "outputId": "12758e6d-85f5-48df-ad4d-fc02e6066ef1"
   },
   "outputs": [
    {
     "name": "stdout",
     "output_type": "stream",
     "text": [
      "A right triangle with legs 3 and 4 gives a hypotenuse of 5.0\n"
     ]
    }
   ],
   "source": [
    "import math #imports a built in python package called 'math' which gives access to more functions\n",
    "a = 1+2\n",
    "b = 2*2\n",
    "c = math.sqrt((a**2 + b**2)) #'sqrt()' is a function in the 'math' package, note its called by first stating the package its from\n",
    "print('A right triangle with legs', a, 'and', b, 'gives a hypotenuse of',c)"
   ]
  },
  {
   "cell_type": "markdown",
   "metadata": {
    "id": "A88rOrIcMLtL"
   },
   "source": [
    "The mathmatical operation '%' is the 'modulus' and gives the remander after division:\n",
    "<br>*Ask yourself: How can this be used to determine if a number is even?*"
   ]
  },
  {
   "cell_type": "code",
   "execution_count": null,
   "metadata": {
    "id": "IpxgSM-OMLtL",
    "outputId": "0c5f17bb-24da-42c0-d59f-5a7e21fc35eb"
   },
   "outputs": [
    {
     "name": "stdout",
     "output_type": "stream",
     "text": [
      "remainder of 7 divided by 4 is  3\n",
      "remainder of 8 divided by 4 is  0\n"
     ]
    }
   ],
   "source": [
    "print('remainder of 7 divided by 4 is ', 7%4)\n",
    "print('remainder of 8 divided by 4 is ', 8%4)"
   ]
  },
  {
   "cell_type": "markdown",
   "metadata": {
    "id": "K5g6xpH3MLtL"
   },
   "source": [
    "### Conditionals"
   ]
  },
  {
   "cell_type": "markdown",
   "metadata": {
    "id": "KC_Lp7SjMLtM"
   },
   "source": [
    "We can get True or False resultes (a boolean value, or 'bool' for short) of statements:\n",
    "\n",
    "**This is a very important and powerful concept for programming)**\n",
    "\n",
    "- a > b  | is 'a' greater than 'b'?\n",
    "- a >= b  | is 'a' greater than or equal to 'b'?\n",
    "- a == b  | does 'a' equal 'b'?  (note 2 equal signs needed, why is this?)\n",
    "- a < b  | is 'a' less than or equal to 'b'?\n",
    "- a <= b  | is 'a' less than or equal to 'b'?\n",
    "- a != b  | does 'a' not equal 'b'?"
   ]
  },
  {
   "cell_type": "code",
   "execution_count": null,
   "metadata": {
    "id": "UgC8adqJMLtM",
    "outputId": "ceee795c-a861-410e-c36f-1c0528266ba7"
   },
   "outputs": [
    {
     "name": "stdout",
     "output_type": "stream",
     "text": [
      "3>4: False\n",
      "4>4: False\n",
      "4>=4: True\n",
      "a==b: False\n",
      "a!=b: True\n",
      "True\n"
     ]
    }
   ],
   "source": [
    "a = 3\n",
    "b = 4\n",
    "print('3>4:', 3>4)\n",
    "print('4>4:', 4>4)\n",
    "print('4>=4:',4>=4)\n",
    "print('a==b:',a==b) #can be done on variables too\n",
    "print('a!=b:',a!=b)\n",
    "this_bool = 3<4 #can be used to define the value of a boolean variable\n",
    "print(this_bool)"
   ]
  },
  {
   "cell_type": "markdown",
   "metadata": {
    "id": "r_6vMOtuMLtM"
   },
   "source": [
    "We can add together multiple conditions to collapse into a single boolean value by using 'and' and 'or'\n",
    "- 'and' returns True if both conditions on either side return to 'True'\n",
    "- 'or' returns True if one *or* both conditions on either side return to 'True'"
   ]
  },
  {
   "cell_type": "code",
   "execution_count": null,
   "metadata": {
    "id": "s_t3ooA0MLtM",
    "outputId": "0f6e5ddf-5d11-4a86-f4fb-20f8642b0e28"
   },
   "outputs": [
    {
     "data": {
      "text/plain": [
       "False"
      ]
     },
     "execution_count": 74,
     "metadata": {
      "tags": []
     },
     "output_type": "execute_result"
    }
   ],
   "source": [
    "3 < 4 and 10 == 12 #left is true, right is false"
   ]
  },
  {
   "cell_type": "code",
   "execution_count": null,
   "metadata": {
    "id": "UGUpBU11MLtN",
    "outputId": "4b462946-cca7-47f2-fd8e-f30be7010921"
   },
   "outputs": [
    {
     "data": {
      "text/plain": [
       "True"
      ]
     },
     "execution_count": 75,
     "metadata": {
      "tags": []
     },
     "output_type": "execute_result"
    }
   ],
   "source": [
    "3 < 4 or 10 ==12"
   ]
  },
  {
   "cell_type": "markdown",
   "metadata": {
    "id": "aV_PU55NMLtN"
   },
   "source": [
    "## Data Structures"
   ]
  },
  {
   "cell_type": "markdown",
   "metadata": {
    "id": "3Vi1mdR6MLtN"
   },
   "source": [
    "What if we need groups of variables?\n",
    "We can lump indiviual values into a single item, called a data structure.\n",
    "Python has many built in: Lists, Tuples, Sets, and more each with their own characteristics, pros, and cons. We'll focus on the first three, since those will be the most useful for data science."
   ]
  },
  {
   "cell_type": "markdown",
   "metadata": {
    "id": "_I8W3O5RMLtN"
   },
   "source": [
    "### Lists"
   ]
  },
  {
   "cell_type": "markdown",
   "metadata": {
    "id": "AuN_rBjCMLtO"
   },
   "source": [
    "Lists are the most commonly used built in data type. They can easily be accessed and added onto. They can hold any data type, and are not limited to hold one specific type. They are defined with brackets, best seen in exapmle code:"
   ]
  },
  {
   "cell_type": "code",
   "execution_count": null,
   "metadata": {
    "id": "iuYjQeSzMLtO"
   },
   "outputs": [],
   "source": [
    "my_empty_list = []"
   ]
  },
  {
   "cell_type": "markdown",
   "metadata": {
    "id": "ucC2Y4pGMLtO"
   },
   "source": [
    "The cell above makes what's called an empty list. This creates the variable that python knows is a list, but there is nothing in it. We can define lists with objects already in them:"
   ]
  },
  {
   "cell_type": "code",
   "execution_count": null,
   "metadata": {
    "id": "KfXIAHXNMLtO"
   },
   "outputs": [],
   "source": [
    "my_list = [2,3,2,4.5, True, 'NSLC']"
   ]
  },
  {
   "cell_type": "code",
   "execution_count": null,
   "metadata": {
    "id": "uRhvLf7gMLtO",
    "outputId": "4e98b277-3e88-4d5c-8b99-6b7cf57051f5"
   },
   "outputs": [
    {
     "name": "stdout",
     "output_type": "stream",
     "text": [
      "[2, 3, 2, 4.5, True, 'NSLC']\n"
     ]
    }
   ],
   "source": [
    "print(my_list)"
   ]
  },
  {
   "cell_type": "markdown",
   "metadata": {
    "id": "AHRQmcF1MLtO"
   },
   "source": [
    "What if you need a specific object from a list? we can access it if we know where it is in the list. Every position in a list has an 'index', a number from 0 to the number of items in the list minus one. Why do we start at 0 and not 1? It's a detail of the way computers count, for now just accept it as a truth of programming as this appears in almost every programming language."
   ]
  },
  {
   "cell_type": "markdown",
   "metadata": {
    "id": "VDemfA31MLtP"
   },
   "source": [
    "If we want the first item of the list we would say:"
   ]
  },
  {
   "cell_type": "code",
   "execution_count": null,
   "metadata": {
    "id": "DOg5wJfjMLtS",
    "outputId": "d1e39d1d-9dfe-49a8-a8a3-df887b96687a"
   },
   "outputs": [
    {
     "name": "stdout",
     "output_type": "stream",
     "text": [
      "The first element in the list is  2\n",
      "The second element in the list is  3\n"
     ]
    }
   ],
   "source": [
    "print('The first element in the list is ', my_list[0])\n",
    "print('The second element in the list is ', my_list[1])"
   ]
  },
  {
   "cell_type": "markdown",
   "metadata": {
    "id": "xa3icL1OMLtT"
   },
   "source": [
    "The number we place in the the brackets is the index of the list we wish to access. \n",
    "\n",
    "What if we want the last item and we don't know how big the list is?\n",
    "- We can find the length of the list using the built in function len()\n"
   ]
  },
  {
   "cell_type": "code",
   "execution_count": null,
   "metadata": {
    "id": "MQnjHdEGMLtT",
    "outputId": "db2aa331-3c86-4447-bbdf-2bbafcad8ec6"
   },
   "outputs": [
    {
     "data": {
      "text/plain": [
       "6"
      ]
     },
     "execution_count": 15,
     "metadata": {
      "tags": []
     },
     "output_type": "execute_result"
    }
   ],
   "source": [
    "len(my_list)"
   ]
  },
  {
   "cell_type": "markdown",
   "metadata": {
    "id": "U2ncDqU5MLtU"
   },
   "source": [
    "This gives the number of elements in the list, if we want the last one we have to use this minus 1 since we start counting at 0"
   ]
  },
  {
   "cell_type": "code",
   "execution_count": null,
   "metadata": {
    "id": "gIqlm6bKMLtU",
    "outputId": "8c07831e-4f75-46ae-dde5-2947da198d8c"
   },
   "outputs": [
    {
     "name": "stdout",
     "output_type": "stream",
     "text": [
      "last item in my_list: NSLC\n"
     ]
    }
   ],
   "source": [
    "print('last item in my_list:', my_list[len(my_list) - 1])"
   ]
  },
  {
   "cell_type": "markdown",
   "metadata": {
    "id": "WZn_EfBMMLtV"
   },
   "source": [
    "Notice the index we give doesn't have to be a number right off the bat, but has to be a number after all functions and math operations have been completed\n",
    "\n",
    "A short hand on getting the last item is:"
   ]
  },
  {
   "cell_type": "code",
   "execution_count": null,
   "metadata": {
    "id": "_EOtfqtRMLtV",
    "outputId": "a727ab63-f970-4e14-c6af-f227877e3d4d"
   },
   "outputs": [
    {
     "data": {
      "text/plain": [
       "'NSLC'"
      ]
     },
     "execution_count": 17,
     "metadata": {
      "tags": []
     },
     "output_type": "execute_result"
    }
   ],
   "source": [
    "my_list[-1]"
   ]
  },
  {
   "cell_type": "markdown",
   "metadata": {
    "id": "g59KwTRHMLtV"
   },
   "source": [
    "Try finding the second to last item using both methods (answer: True)"
   ]
  },
  {
   "cell_type": "code",
   "execution_count": null,
   "metadata": {
    "id": "exQbEWnuMLtV"
   },
   "outputs": [],
   "source": [
    "#try the long way here"
   ]
  },
  {
   "cell_type": "code",
   "execution_count": null,
   "metadata": {
    "id": "3chmVe4CMLtW"
   },
   "outputs": [],
   "source": [
    "#try the short hand here"
   ]
  },
  {
   "cell_type": "markdown",
   "metadata": {
    "id": "AdhsG0ulMLtW"
   },
   "source": [
    "'len()' is one built in function for lists, but there are many more, some important ones are:\n",
    "- .append() | addes what is passed in the parentesis to the end of the list\n",
    "- .sort() | sorts the list (can be alphabetical for strings or numerically)\n",
    "\n",
    "notice the dot in front of these functions, you don't pass in the list but rather these modify the lists"
   ]
  },
  {
   "cell_type": "code",
   "execution_count": null,
   "metadata": {
    "id": "ln-9r5moMLtW",
    "outputId": "b161fadc-a898-4f21-efad-562a375a3569"
   },
   "outputs": [
    {
     "name": "stdout",
     "output_type": "stream",
     "text": [
      "[0, 8, 3.4, 2]\n",
      "[0, 8, 3.4, 2, 1]\n",
      "[0, 1, 2, 3.4, 8]\n"
     ]
    }
   ],
   "source": [
    "num_list = [0,8,3.4,2]\n",
    "print(num_list)\n",
    "num_list.append(1)\n",
    "print(num_list)\n",
    "num_list.sort() #empty parenthesis are okay, we'll talk more about function later\n",
    "print(num_list)"
   ]
  },
  {
   "cell_type": "code",
   "execution_count": null,
   "metadata": {
    "id": "-98nrUsLMLtW",
    "outputId": "f0f61d1b-69f1-42d6-b8f6-f3c7783b4fe0"
   },
   "outputs": [
    {
     "name": "stdout",
     "output_type": "stream",
     "text": [
      "['a', 'b', 'a', 'alphabet', 'dog', 'zebra', 'dig']\n",
      "['a', 'b', 'a', 'alphabet', 'dog', 'zebra', 'dig', 'horse']\n",
      "['a', 'a', 'alphabet', 'b', 'dig', 'dog', 'horse', 'zebra']\n"
     ]
    }
   ],
   "source": [
    "string_list = ['a', 'b', 'a', 'alphabet', 'dog', 'zebra','dig']\n",
    "print(string_list)\n",
    "string_list.append('horse')\n",
    "print(string_list)\n",
    "string_list.sort()\n",
    "print(string_list)"
   ]
  },
  {
   "cell_type": "markdown",
   "metadata": {
    "id": "80oGjHygMLtZ"
   },
   "source": [
    "What if we sort a list with mixed types? Try it and find out!\n",
    "Hint: This is why data cleaning is so important!"
   ]
  },
  {
   "cell_type": "code",
   "execution_count": null,
   "metadata": {
    "id": "OhR3-9uzMLtZ"
   },
   "outputs": [],
   "source": [
    "mixed_list = ['a', 'zebra', 'horse', 2, 7.4, 'NSLC']"
   ]
  },
  {
   "cell_type": "code",
   "execution_count": null,
   "metadata": {
    "id": "bkOrvUoQMLta"
   },
   "outputs": [],
   "source": [
    "#sort your list and output it in this cell"
   ]
  },
  {
   "cell_type": "markdown",
   "metadata": {
    "id": "ZZM_eg9uMLtb"
   },
   "source": [
    "Another important feature of lists is the built in conditional 'in'. You can use this similar to the conditionals we used with math to return a bool statement. \n",
    "\n",
    "Part of the usefulness of python is how natural the syntax is to read:"
   ]
  },
  {
   "cell_type": "code",
   "execution_count": null,
   "metadata": {
    "id": "fAgWBuinMLtb",
    "outputId": "119443d9-127b-454d-be7f-5b27991c1ff1"
   },
   "outputs": [
    {
     "data": {
      "text/plain": [
       "True"
      ]
     },
     "execution_count": 24,
     "metadata": {
      "tags": []
     },
     "output_type": "execute_result"
    }
   ],
   "source": [
    "'zebra' in mixed_list"
   ]
  },
  {
   "cell_type": "code",
   "execution_count": null,
   "metadata": {
    "id": "NkoPwj2CMLtc",
    "outputId": "617c7da3-1ed2-4d65-dd8a-a413d3506a04"
   },
   "outputs": [
    {
     "data": {
      "text/plain": [
       "False"
      ]
     },
     "execution_count": 64,
     "metadata": {
      "tags": []
     },
     "output_type": "execute_result"
    }
   ],
   "source": [
    "'cat' in mixed_list"
   ]
  },
  {
   "cell_type": "markdown",
   "metadata": {
    "id": "sjcj8E-PMLtc"
   },
   "source": [
    "### Tuples"
   ]
  },
  {
   "cell_type": "markdown",
   "metadata": {
    "id": "E9ovsi0KMLtc"
   },
   "source": [
    "Tuples are defined like lists, but with parenthesis instead of brackets:"
   ]
  },
  {
   "cell_type": "code",
   "execution_count": null,
   "metadata": {
    "id": "ZTU8pDPJMLtd"
   },
   "outputs": [],
   "source": [
    "my_tuple = (1,4,6,'NSLC')"
   ]
  },
  {
   "cell_type": "markdown",
   "metadata": {
    "id": "LSMM_9TiMLtd"
   },
   "source": [
    "It can be accessed just like a list"
   ]
  },
  {
   "cell_type": "code",
   "execution_count": null,
   "metadata": {
    "id": "Qw0_ECsvMLtd",
    "outputId": "6277309c-1a26-45f8-9027-891551765a70"
   },
   "outputs": [
    {
     "name": "stdout",
     "output_type": "stream",
     "text": [
      "The first element is  1\n",
      "The second element is  4\n",
      "The last element is  NSLC\n",
      "The number of elements in the tuple is 4\n"
     ]
    }
   ],
   "source": [
    "print('The first element is ', my_tuple[0]) #note that accessing still uses brackets even though it's defined with parenthesis\n",
    "print('The second element is ', my_tuple[1])\n",
    "print('The last element is ', my_tuple[-1])\n",
    "print('The number of elements in the tuple is', len(my_tuple))"
   ]
  },
  {
   "cell_type": "markdown",
   "metadata": {
    "id": "ZRoWuQ_kMLtd"
   },
   "source": [
    "Strings can be thought of as a tuple, with each element as a single character. Each character is indexed and can be accessed just like we access tuples, we can also use the len() function to see how many characters are in a string"
   ]
  },
  {
   "cell_type": "code",
   "execution_count": null,
   "metadata": {
    "id": "PcRkEeXVMLtd",
    "outputId": "cd77e6e6-6875-46d6-e6a0-2f0672d4ec71"
   },
   "outputs": [
    {
     "name": "stdout",
     "output_type": "stream",
     "text": [
      "The third character is s\n",
      "There are 11 characters in the string\n"
     ]
    }
   ],
   "source": [
    "my_string = 'Test_String'\n",
    "print('The third character is',my_string[2])\n",
    "print('There are', len(my_string),'characters in the string')"
   ]
  },
  {
   "cell_type": "markdown",
   "metadata": {
    "id": "X486ZuvYMLte"
   },
   "source": [
    "The 'in' conditional can be used as well:"
   ]
  },
  {
   "cell_type": "code",
   "execution_count": null,
   "metadata": {
    "id": "o2_hd_aXMLte",
    "outputId": "2a808cab-3ee5-4adf-99e7-5d84a15eeeae"
   },
   "outputs": [
    {
     "data": {
      "text/plain": [
       "True"
      ]
     },
     "execution_count": 28,
     "metadata": {
      "tags": []
     },
     "output_type": "execute_result"
    }
   ],
   "source": [
    "'NSLC' in my_tuple"
   ]
  },
  {
   "cell_type": "markdown",
   "metadata": {
    "id": "W3DaSDU-MLte"
   },
   "source": [
    "So why not just use a list? Well the difference is that we can change a list by direct re-assignments or by other functions like '.append()'. Tuples, on the other hand, *can not* be altered once they are created. Give it a try to see how python reacts:"
   ]
  },
  {
   "cell_type": "code",
   "execution_count": null,
   "metadata": {
    "id": "IQxGeBzvMLtf",
    "outputId": "18ba1a6b-f1bd-4bc1-bb17-7ce81495f8f9"
   },
   "outputs": [
    {
     "ename": "TypeError",
     "evalue": "'tuple' object does not support item assignment",
     "output_type": "error",
     "traceback": [
      "\u001b[1;31m---------------------------------------------------------------------------\u001b[0m",
      "\u001b[1;31mTypeError\u001b[0m                                 Traceback (most recent call last)",
      "\u001b[1;32m<ipython-input-29-1c3fc45a38ae>\u001b[0m in \u001b[0;36m<module>\u001b[1;34m\u001b[0m\n\u001b[1;32m----> 1\u001b[1;33m \u001b[0mmy_tuple\u001b[0m\u001b[1;33m[\u001b[0m\u001b[1;36m2\u001b[0m\u001b[1;33m]\u001b[0m \u001b[1;33m=\u001b[0m \u001b[1;32mTrue\u001b[0m \u001b[1;31m#directly re-assign the third element of the tuple to the bool value of 'True'\u001b[0m\u001b[1;33m\u001b[0m\u001b[1;33m\u001b[0m\u001b[0m\n\u001b[0m",
      "\u001b[1;31mTypeError\u001b[0m: 'tuple' object does not support item assignment"
     ]
    }
   ],
   "source": [
    "my_tuple[2] = True #directly re-assign the third element of the tuple to the bool value of 'True'"
   ]
  },
  {
   "cell_type": "markdown",
   "metadata": {
    "id": "hLQklw1mMLtf"
   },
   "source": [
    "*So tuples seems less usful than a list, why would I use it?*\n",
    "<br>Sometimes we want certain variables to be protected from being altered, something thats easy to overlook when code gets complex. <br>The more important reason for this course is that computers are able to access tuples faster than lists.<br> **Here we come across a consistent theme of coding: Trade-Offs** (Here we have speed vs. functionality, which to use depends on the situation)"
   ]
  },
  {
   "cell_type": "markdown",
   "metadata": {
    "id": "Q5KmGcAfMLtf"
   },
   "source": [
    "### Sets"
   ]
  },
  {
   "cell_type": "markdown",
   "metadata": {
    "id": "K-XLmrH8MLtf"
   },
   "source": [
    "A set is a collection of elements, that are unordered and unindexed. Unlike lists, sets do not have a sort function, nor do they have repeated elements. They are created like lists, using curly brackets instead of square brackets:\n"
   ]
  },
  {
   "cell_type": "code",
   "execution_count": null,
   "metadata": {
    "id": "xddRkS_kMLtf"
   },
   "outputs": [],
   "source": [
    "my_set = {\"NSLC\", 3.1415, True}"
   ]
  },
  {
   "cell_type": "markdown",
   "metadata": {
    "id": "Qxpj7l8dMLtf"
   },
   "source": [
    "Items can be added to sets using the function .add() <br>(we use 'add' rather than 'append' because 'append' implies the element being added to the end of the data structure, and sets have no order. The idea of the 'end' of the set does not exist in the eyes of a mathematician)"
   ]
  },
  {
   "cell_type": "code",
   "execution_count": null,
   "metadata": {
    "id": "z4XQNmpZMLtf",
    "outputId": "8dfe6e9f-7d3e-49b1-ce2b-c1435f2a717d"
   },
   "outputs": [
    {
     "name": "stdout",
     "output_type": "stream",
     "text": [
      "new set: {True, 3.1415, 4.0, 'NSLC'}\n"
     ]
    }
   ],
   "source": [
    "my_set.add(4.0)\n",
    "print('new set:',my_set)"
   ]
  },
  {
   "cell_type": "markdown",
   "metadata": {
    "id": "GZ3z_4E_MLtg"
   },
   "source": [
    "*Note that the set autimatically orders itself {bool, float, string} <br> This may seem that it counteracts the 'orderlessness' of sets, but it has to do with the space efficienty of storing the data in computer memory, and not with adding order for the program or programmer*"
   ]
  },
  {
   "cell_type": "markdown",
   "metadata": {
    "id": "IgoUvg-LMLtg"
   },
   "source": [
    "## Logic Paths"
   ]
  },
  {
   "cell_type": "markdown",
   "metadata": {
    "id": "UHT-CmcKMLtg"
   },
   "source": [
    "*How can we use these data types and structures to make more complex, and more useful code?* <br> With just a few more tools we can make surprisingly complicated programs. These tools are not physical structures or variables, rather they are logical ways of moving through data, giving us the ability to iterate patterns over the data we have."
   ]
  },
  {
   "cell_type": "markdown",
   "metadata": {
    "id": "ElSXhQ_WMLtg"
   },
   "source": [
    "### if / elif / else statements"
   ]
  },
  {
   "cell_type": "markdown",
   "metadata": {
    "id": "AKZuhsfPMLtg"
   },
   "source": [
    "**We can 'branch' a path a program will take using the conditionals we learned previously**"
   ]
  },
  {
   "cell_type": "markdown",
   "metadata": {
    "id": "D5F6Pw63MLtg"
   },
   "source": [
    "'if' statements, like the one seen below, have a specific syntax to them:\n",
    "they have the 'if' followed by the conditional statement that reduces to a boolean value followed by a colon, the lines that occur *only if* the boolean value is true must be indented."
   ]
  },
  {
   "cell_type": "code",
   "execution_count": null,
   "metadata": {
    "id": "jNQ5oPEMMLtg"
   },
   "outputs": [],
   "source": [
    "''' <- these make a block of code 'commented out'\n",
    "\n",
    "if (some condition that reduces to a boolean value):\n",
    "    this line is run if the bool is 'True'\n",
    "    then this is run if the bool is 'True'\n",
    "This line is 'outside' the if statement above becuase we indented back, so it is run regardless of the boolean condition\n",
    "\n",
    "''' "
   ]
  },
  {
   "cell_type": "code",
   "execution_count": null,
   "metadata": {
    "id": "hqQ0mTz7MLtg"
   },
   "outputs": [],
   "source": [
    "#set 'a' to different values to see how it effects the output\n",
    "a = 3\n",
    "\n",
    "if a < 5:\n",
    "    print('a is less than 5')\n",
    "print('this always prints')"
   ]
  },
  {
   "cell_type": "markdown",
   "metadata": {
    "id": "iddDRPIYMLth"
   },
   "source": [
    "else statements do what they sound like, they run if the bool condition after the 'if' is false:"
   ]
  },
  {
   "cell_type": "code",
   "execution_count": null,
   "metadata": {
    "id": "Q3V8cx_jMLth"
   },
   "outputs": [],
   "source": [
    "#set 'a' to different values to see how it effects the output\n",
    "a = 6\n",
    "\n",
    "if a < 5:\n",
    "    print('a is less than 5')\n",
    "else:\n",
    "    print('a is greater than or equal to 5')\n",
    "print('this always prints')"
   ]
  },
  {
   "cell_type": "markdown",
   "metadata": {
    "id": "L-pVCzgJMLth"
   },
   "source": [
    "use 'elif' if you have multiple conditions to work through, these need their own condional afterwards unlike 'else'. <br>**The first condition in the if, elif, else blocks to be true will run, the rest are skipped**"
   ]
  },
  {
   "cell_type": "code",
   "execution_count": null,
   "metadata": {
    "id": "brMo2RZ7MLth",
    "outputId": "017989f0-9f48-41a7-f935-c1d79ffea1dc"
   },
   "outputs": [
    {
     "name": "stdout",
     "output_type": "stream",
     "text": [
      "a is greater than 10\n",
      "this always prints\n"
     ]
    }
   ],
   "source": [
    "#set 'a' to different values to see how it effects the output\n",
    "a = 11\n",
    "\n",
    "if a > 10:\n",
    "    print('a is greater than 10')\n",
    "elif a > 5:\n",
    "    print('a is greater than 5 and less than or equal to 10')\n",
    "else:\n",
    "    print('a is less than or equal to 5')\n",
    "print('this always prints')"
   ]
  },
  {
   "cell_type": "markdown",
   "metadata": {
    "id": "AKVDnMnVMLth"
   },
   "source": [
    "### Nesting"
   ]
  },
  {
   "cell_type": "markdown",
   "metadata": {
    "id": "shBtcdu_MLth"
   },
   "source": [
    "The above block of code can be made a different way, using only 'if' and 'else' statements, by 'nesting' them in each other:"
   ]
  },
  {
   "cell_type": "code",
   "execution_count": null,
   "metadata": {
    "id": "oS8dIaAeMLth",
    "outputId": "11ac7964-4ec8-466b-d844-765710454f71"
   },
   "outputs": [
    {
     "name": "stdout",
     "output_type": "stream",
     "text": [
      "a is less than or equal to 5\n",
      "this always prints\n"
     ]
    }
   ],
   "source": [
    "a = 3\n",
    "\n",
    "if a > 10:\n",
    "    print('a is greater than 10')\n",
    "else:\n",
    "    if a > 5:\n",
    "        print('a is greater than 5 and less than or equal to 10')\n",
    "    else:\n",
    "        print('a is less than or equal to 5')\n",
    "print('this always prints')"
   ]
  },
  {
   "cell_type": "markdown",
   "metadata": {
    "id": "0Ca2RNGlMLti"
   },
   "source": [
    "In programming, there are many ways to solve a given problem, sometimes it comes down to personal preference, but always stride to find more effective solutions. While the second method using only if and else worked just fine, the code would be harder for a colleague to read and understand. The second method would also be slower to run, not by much but if you iterated over it enough you see a difference. <br> *When iterated 100-million times, the first version with elif took about 27 seconds whereas the version without elif took about 38 seconds*"
   ]
  },
  {
   "cell_type": "markdown",
   "metadata": {
    "id": "P5udfoqkMLti"
   },
   "source": [
    "## Loops"
   ]
  },
  {
   "cell_type": "markdown",
   "metadata": {
    "id": "Qg1Mo0WYMLti"
   },
   "source": [
    "Loops are a very common and very powerful tool. They allow you to dynamically iterate code. There are two common loops, 'while' loops and 'for' loops:"
   ]
  },
  {
   "cell_type": "markdown",
   "metadata": {
    "id": "lCE9MhG5MLti"
   },
   "source": [
    "### 'While' Loops"
   ]
  },
  {
   "cell_type": "markdown",
   "metadata": {
    "id": "RpsoQhmYMLti"
   },
   "source": [
    "While loops work with conditionals just like 'if' statements \n",
    "<br> They can be thought to work like 'While some boolean condition is true, Run the following block of code:' \n",
    "<br> At the end of the indented block, the condition will be checked again, and if it is true it re-runs the block, if the condition is false, it exits the block\n",
    "\n",
    "What do you think the following code will output? What happens if a is initially greater than 2? "
   ]
  },
  {
   "cell_type": "code",
   "execution_count": null,
   "metadata": {
    "id": "HLwIm1YAMLti",
    "outputId": "54fbaca6-a175-4d58-9042-e9d3c7b6fa87"
   },
   "outputs": [
    {
     "name": "stdout",
     "output_type": "stream",
     "text": [
      "a is currently 0\n",
      "a is currently 1\n",
      "a is currently 2\n",
      "loop is complete\n"
     ]
    }
   ],
   "source": [
    "a = 0\n",
    "while a <= 2:\n",
    "    print('a is currently', a)\n",
    "    a += 1 #fancy way of writing 'a = a + 1' aka add 1 to the value of a\n",
    "print('loop is complete')"
   ]
  },
  {
   "cell_type": "markdown",
   "metadata": {
    "id": "IfI2bgagMLti"
   },
   "source": [
    "Whenever you write a loop, you need to make sure that the exit condition will be reached, otherwise the code runs forever, this can cause your program to crash or at the very least force you to interupt it\n",
    "\n",
    "To interupt Jupyter, press the 'i' key twice while the active cell is blue on the left side (jupyter is in command mode)"
   ]
  },
  {
   "cell_type": "code",
   "execution_count": null,
   "metadata": {
    "id": "O7-tQurIMLti",
    "outputId": "ccc91634-a0a2-45dc-af26-d18bb16955b3"
   },
   "outputs": [
    {
     "ename": "KeyboardInterrupt",
     "evalue": "",
     "output_type": "error",
     "traceback": [
      "\u001b[1;31m---------------------------------------------------------------------------\u001b[0m",
      "\u001b[1;31mKeyboardInterrupt\u001b[0m                         Traceback (most recent call last)",
      "\u001b[1;32m<ipython-input-34-d89b0394cb9d>\u001b[0m in \u001b[0;36m<module>\u001b[1;34m\u001b[0m\n\u001b[0;32m      2\u001b[0m \u001b[1;32mwhile\u001b[0m \u001b[1;32mTrue\u001b[0m\u001b[1;33m:\u001b[0m\u001b[1;33m\u001b[0m\u001b[1;33m\u001b[0m\u001b[0m\n\u001b[0;32m      3\u001b[0m     \u001b[1;31m#this code won't crash your program but will virtually run forever\u001b[0m\u001b[1;33m\u001b[0m\u001b[1;33m\u001b[0m\u001b[1;33m\u001b[0m\u001b[0m\n\u001b[1;32m----> 4\u001b[1;33m     \u001b[0ma\u001b[0m \u001b[1;33m+=\u001b[0m \u001b[1;36m1\u001b[0m\u001b[1;33m\u001b[0m\u001b[1;33m\u001b[0m\u001b[0m\n\u001b[0m\u001b[0;32m      5\u001b[0m \u001b[0mprint\u001b[0m\u001b[1;33m(\u001b[0m\u001b[1;34m'exited the loop'\u001b[0m\u001b[1;33m)\u001b[0m\u001b[1;33m\u001b[0m\u001b[1;33m\u001b[0m\u001b[0m\n",
      "\u001b[1;31mKeyboardInterrupt\u001b[0m: "
     ]
    }
   ],
   "source": [
    "a = 0\n",
    "while True:\n",
    "    #this code won't crash your program but will virtually run forever\n",
    "    a += 1\n",
    "print('exited the loop')"
   ]
  },
  {
   "cell_type": "markdown",
   "metadata": {
    "id": "fUtpLv-XMLtj"
   },
   "source": [
    "fix the above loop so that it exits when a reaches 1,000,000 and see how fast it can count that high (it's complete when the star in the brackets becomes a number)"
   ]
  },
  {
   "cell_type": "markdown",
   "metadata": {
    "id": "RkfNFFgaMLtj"
   },
   "source": [
    "### 'For' Loops"
   ]
  },
  {
   "cell_type": "markdown",
   "metadata": {
    "id": "4wdF-NAzMLtj"
   },
   "source": [
    "For loops are more convienient for iterating over data structure like lists, but can also do what while loops can, for example we can use the range(a,b) function to do what the above loop did to count up to one million <br> The range(a,b) fucntion takes two integers, 'a' and 'b', and essentially return a sequence of integers between 'a' and 'b', but excludes b. For example range(0,4) woule give the integers 0,1,2,3"
   ]
  },
  {
   "cell_type": "code",
   "execution_count": null,
   "metadata": {
    "id": "Q_h1kqnnMLtj",
    "outputId": "98d19463-6edc-4b16-ce75-5b383b63b5a5"
   },
   "outputs": [
    {
     "name": "stdout",
     "output_type": "stream",
     "text": [
      "exited the loop\n"
     ]
    }
   ],
   "source": [
    "a = 0\n",
    "for i in range (0,1000000): #i is a 'dummy-variable', only used by the loop to track where it is\n",
    "    a += 1\n",
    "print('exited the loop')"
   ]
  },
  {
   "cell_type": "markdown",
   "metadata": {
    "id": "ynnHdsT1MLtj"
   },
   "source": [
    "The real power of for loops is in iterating over a list, best seen in an example:"
   ]
  },
  {
   "cell_type": "code",
   "execution_count": null,
   "metadata": {
    "id": "426ef-CPMLtj",
    "outputId": "c1c75cc5-e76f-424c-ea79-88f31bcc4fc4"
   },
   "outputs": [
    {
     "name": "stdout",
     "output_type": "stream",
     "text": [
      "value to add to total this iteration: 0\n",
      "new sum: 0\n",
      "\n",
      "value to add to total this iteration: 5\n",
      "new sum: 5\n",
      "\n",
      "value to add to total this iteration: 4\n",
      "new sum: 9\n",
      "\n",
      "value to add to total this iteration: 2\n",
      "new sum: 11\n",
      "\n",
      "value to add to total this iteration: 7\n",
      "new sum: 18\n",
      "\n",
      "Total sum of list: 18\n"
     ]
    }
   ],
   "source": [
    "#This will give us the sum of a list of numbers\n",
    "my_list = [0,5,4,2,7]\n",
    "running_total = 0 #give a variable with no initial value that we can add to\n",
    "for x in my_list: #x will be whichever value the loop is currently iterating on\n",
    "    print('value to add to total this iteration:', x)\n",
    "    running_total += x #adds the value of the current\n",
    "    print('new sum:', running_total)\n",
    "    print()#put a space between iterations\n",
    "print('Total sum of list:', running_total)"
   ]
  },
  {
   "cell_type": "markdown",
   "metadata": {
    "id": "Iw35PyAzMLtk"
   },
   "source": [
    "Python will iterate over the list we passed the loop in the order of the indexs when we pass it. <br> Try sorting the list before the loop. *Will this change the final sum?*"
   ]
  },
  {
   "cell_type": "markdown",
   "metadata": {
    "id": "rvFspu_vMLtk"
   },
   "source": [
    "<b>Try writing a for loop that adds all the integers from 1 to 100,000; *including 100,000* </b>\n",
    "<br>Hint: use the range(a,b) function"
   ]
  },
  {
   "cell_type": "code",
   "execution_count": null,
   "metadata": {
    "id": "awZY9cmFMLtk"
   },
   "outputs": [],
   "source": [
    "#write your code here, answer: 5,000,050,000"
   ]
  },
  {
   "cell_type": "markdown",
   "metadata": {
    "id": "EJFjycOqMLtk"
   },
   "source": [
    "<b>Try writing a for loop that adds all the *even* integers from 1 to 100,000; *including 100,000* </b>\n",
    "Hint: remember what you learned in the 'if statements' and 'math' sections"
   ]
  },
  {
   "cell_type": "code",
   "execution_count": null,
   "metadata": {
    "id": "nTFyFgIvMLtk",
    "outputId": "63a1beb9-bd3f-498e-c4c8-3a237f32d406"
   },
   "outputs": [
    {
     "name": "stdout",
     "output_type": "stream",
     "text": [
      "2500050000\n"
     ]
    }
   ],
   "source": [
    "#write your code here, answer: 2,500,050,000\n",
    "total = 0\n",
    "for i in range(0,100001):\n",
    "    if i%2 == 0:\n",
    "        total+=i\n",
    "print(total)"
   ]
  },
  {
   "cell_type": "markdown",
   "metadata": {
    "id": "ySXm9fhyMLtk"
   },
   "source": [
    "## User-Defined Functions"
   ]
  },
  {
   "cell_type": "markdown",
   "metadata": {
    "id": "0gs5WuySMLtk"
   },
   "source": [
    "What if we need to run the same block of code multiple times, but we can't do it consecutivly like a loop would?<br>\n",
    "Functions allow us to define these blocks of code given a *general* input that we can decide on when we need to use it in the code.\n",
    "\n",
    "\n",
    "We've seen several built in functions:\n",
    "- Fucntions like print(), len(), and .sort() don't need any inputs, or 'arguments' (items in the parenthesis that define the general inputs in the function definition)\n",
    "- Functions like range(a,b) or .append(a) take values and do something with them\n",
    "- All of these functions have a lot of underlying code that we don't have to sift through or re-write every time, instead we 'call' it given certain parameters."
   ]
  },
  {
   "cell_type": "markdown",
   "metadata": {
    "id": "uMgNeXhQMLtk"
   },
   "source": [
    "We do this by first writing 'def (function name)(param 1, param 2,...):' to tell python we're defining a function, the indented block that follows is what will run when it is called.\n",
    "\n",
    "\n",
    "Lets make our own function, that finds the sum of all integers from some integer 'a' to some integer 'b', can call the function 'int_sumer'"
   ]
  },
  {
   "cell_type": "code",
   "execution_count": null,
   "metadata": {
    "id": "oFRVAWLXMLtl"
   },
   "outputs": [],
   "source": [
    "def int_sumer(a, b): #the name is int_summer, and it takes to parameters 'a' and 'b' which we can now use in the code below:\n",
    "    total = 0\n",
    "    \n",
    "    for i in range(a,b+1): #we say b+1 because we want to include b in the sum\n",
    "        total += i\n",
    "        \n",
    "    return total #the value after 'return' is the value the fucntion gives back"
   ]
  },
  {
   "cell_type": "markdown",
   "metadata": {
    "id": "aR19J1H0MLtl"
   },
   "source": [
    "If we run the above cell, the current 'Kernal' or File we are running will remember this function, allowing us to call it.\n",
    "\n",
    "*If we re-load the program or reset the kernel, we will have to re-run this cell in order to use it again*"
   ]
  },
  {
   "cell_type": "markdown",
   "metadata": {
    "id": "KSgwmlpbMLtl"
   },
   "source": [
    "To find the sum of the integers from 0 to 100,000 again, but by using the newly made function, we can run the following:"
   ]
  },
  {
   "cell_type": "code",
   "execution_count": null,
   "metadata": {
    "id": "sAFa_1S5MLtl",
    "outputId": "1eb00712-7d13-407e-c53d-f5ae26bf709a"
   },
   "outputs": [
    {
     "data": {
      "text/plain": [
       "5000050000"
      ]
     },
     "execution_count": 40,
     "metadata": {
      "tags": []
     },
     "output_type": "execute_result"
    }
   ],
   "source": [
    "int_sumer(0,100000)"
   ]
  },
  {
   "cell_type": "markdown",
   "metadata": {
    "id": "7DA8XpgHMLtl"
   },
   "source": [
    "If we need to do this to multiple sets of integers, this single call is a lot more compact\n",
    "\n",
    "What about from 100,000 to 250,000? Give it a try:"
   ]
  },
  {
   "cell_type": "code",
   "execution_count": null,
   "metadata": {
    "id": "5azPlSi-MLtl"
   },
   "outputs": [],
   "source": [
    "#call the function here, ans: 26,250,175,000\n"
   ]
  },
  {
   "cell_type": "markdown",
   "metadata": {
    "id": "tITco0NeMLtl"
   },
   "source": [
    "What if we wanted to find the sum of even integers? We can't use this function because it isn't equiped for that logic, but we can easily modify the definition of 'int_summer' to do it, try the modifying it below to give the sum of evens from 100,000 to 250,000:"
   ]
  },
  {
   "cell_type": "code",
   "execution_count": null,
   "metadata": {
    "id": "n52DLQuRMLtl"
   },
   "outputs": [],
   "source": [
    "#Modify to only sum even numbers\n",
    "def even_int_sumer(a, b):\n",
    "    total = 0\n",
    "    \n",
    "    for i in range(a,b+1): \n",
    "        total += i\n",
    "    \n",
    "    return total"
   ]
  },
  {
   "cell_type": "code",
   "execution_count": null,
   "metadata": {
    "id": "gO3qaEwGMLtm",
    "outputId": "7c462c3b-7476-4033-e584-f2dc3f325919"
   },
   "outputs": [
    {
     "data": {
      "text/plain": [
       "26250175000"
      ]
     },
     "execution_count": 43,
     "metadata": {
      "tags": []
     },
     "output_type": "execute_result"
    }
   ],
   "source": [
    "even_int_sumer(100000,250000) #should give 13125175000"
   ]
  },
  {
   "cell_type": "markdown",
   "metadata": {
    "id": "MFSoe3tKMLtm"
   },
   "source": [
    "## Practice"
   ]
  },
  {
   "cell_type": "markdown",
   "metadata": {
    "id": "_fEJXS3hMLtm"
   },
   "source": [
    "Try out as many of these as you can, if you're stumped, try looking at the above sections, if you're still lost, ask a friend, if all else fails the solutions are at the bottom of the file."
   ]
  },
  {
   "cell_type": "markdown",
   "metadata": {
    "id": "v4CWcwXsMLtm"
   },
   "source": [
    "1:\n",
    "Write a function that takes a list of strings and prints out the number of strings that start with 'n', 's', 'l', or 'c'."
   ]
  },
  {
   "cell_type": "code",
   "execution_count": null,
   "metadata": {
    "id": "gwGQWmegMLtm",
    "outputId": "996565ee-adaf-43a0-f779-761e84d9ea3d"
   },
   "outputs": [
    {
     "ename": "IndentationError",
     "evalue": "expected an indented block (<ipython-input-85-45ea7af01f65>, line 14)",
     "output_type": "error",
     "traceback": [
      "\u001b[1;36m  File \u001b[1;32m\"<ipython-input-85-45ea7af01f65>\"\u001b[1;36m, line \u001b[1;32m14\u001b[0m\n\u001b[1;33m    p1_function(p1_list)\u001b[0m\n\u001b[1;37m              ^\u001b[0m\n\u001b[1;31mIndentationError\u001b[0m\u001b[1;31m:\u001b[0m expected an indented block\n"
     ]
    }
   ],
   "source": [
    "#use this list\n",
    "p1_list = ['a', 'about', 'above', 'after', 'again', 'against', 'ain', 'all', 'am', 'an', 'and', 'any', 'are', 'aren', \"aren't\", 'as', 'at', 'be', 'because', 'been', 'before', 'being', 'below', 'between', 'both', 'but', 'by', 'can', 'couldn', \"couldn't\", 'd', 'did', 'didn', \"didn't\", 'do', 'does', 'doesn', \"doesn't\", 'doing', 'don', \"don't\", 'down', 'during', 'each', 'few', 'for', 'from', 'further', 'had', 'hadn', \"hadn't\", 'has', 'hasn', \"hasn't\", 'have', 'haven', \"haven't\", 'having', 'he', 'her', 'here', 'hers', 'herself', 'him', 'himself', 'his', 'how', 'i', 'if', 'in', 'into', 'is', 'isn', \"isn't\", 'it', \"it's\", 'its', 'itself', 'just', 'll', 'm', 'ma', 'me', 'mightn', \"mightn't\", 'more', 'most', 'mustn', \"mustn't\", 'my', 'myself', 'needn', \"needn't\", 'no', 'nor', 'not', 'now', 'o', 'of', 'off', 'on', 'once', 'only', 'or', 'other', 'our', 'ours', 'ourselves', 'out', 'over', 'own', 're', 's', 'same', 'shan', \"shan't\", 'she', \"she's\", 'should', \"should've\", 'shouldn', \"shouldn't\", 'so', 'some', 'such', 't', 'than', 'that', \"that'll\", 'the', 'their', 'theirs', 'them', 'themselves', 'then', 'there', 'these', 'they', 'this', 'those', 'through', 'to', 'too', 'under', 'until', 'up', 've', 'very', 'was', 'wasn', \"wasn't\", 'we', 'were', 'weren', \"weren't\", 'what', 'when', 'where', 'which', 'while', 'who', 'whom', 'why', 'will', 'with', 'won', \"won't\", 'wouldn', \"wouldn't\", 'y', 'you', \"you'd\", \"you'll\", \"you're\", \"you've\", 'your', 'yours', 'yourself', 'yourselves']\n",
    "\n",
    "def p1_function(this_list):\n",
    "    #vvv your code here vvv\n",
    "    \n",
    "    \n",
    "    \n",
    "    \n",
    "    \n",
    "    #^^^ your code here ^^^\n",
    "    #you do not need a return statement\n",
    "\n",
    "p1_function(p1_list)"
   ]
  },
  {
   "cell_type": "markdown",
   "metadata": {
    "id": "3CMKh0l9MLtm"
   },
   "source": [
    "2: Write a function that takes three numbers, and returns the value that is the hightest minues the other two. Assume all inputs will be different"
   ]
  },
  {
   "cell_type": "code",
   "execution_count": null,
   "metadata": {
    "id": "nif9dCXSMLtm"
   },
   "outputs": [],
   "source": [
    "#your code here, make sure to define the function with the name requested in the cells below!"
   ]
  },
  {
   "cell_type": "code",
   "execution_count": null,
   "metadata": {
    "id": "qGiw9jdlMLtn",
    "outputId": "950d1824-8d36-4ac3-c5dd-8c3bd782d351"
   },
   "outputs": [
    {
     "name": "stdout",
     "output_type": "stream",
     "text": [
      "0\n"
     ]
    },
    {
     "ename": "NameError",
     "evalue": "name 'p2_fucntion' is not defined",
     "output_type": "error",
     "traceback": [
      "\u001b[1;31m---------------------------------------------------------------------------\u001b[0m",
      "\u001b[1;31mNameError\u001b[0m                                 Traceback (most recent call last)",
      "\u001b[1;32m<ipython-input-91-a49b572f6644>\u001b[0m in \u001b[0;36m<module>\u001b[1;34m\u001b[0m\n\u001b[0;32m      1\u001b[0m \u001b[0mprint\u001b[0m\u001b[1;33m(\u001b[0m\u001b[0mp2_function\u001b[0m\u001b[1;33m(\u001b[0m\u001b[1;36m1\u001b[0m\u001b[1;33m,\u001b[0m\u001b[1;36m2\u001b[0m\u001b[1;33m,\u001b[0m\u001b[1;36m3\u001b[0m\u001b[1;33m)\u001b[0m\u001b[1;33m)\u001b[0m\u001b[1;33m\u001b[0m\u001b[1;33m\u001b[0m\u001b[0m\n\u001b[1;32m----> 2\u001b[1;33m \u001b[0mprint\u001b[0m\u001b[1;33m(\u001b[0m\u001b[0mp2_fucntion\u001b[0m\u001b[1;33m(\u001b[0m\u001b[1;36m5\u001b[0m\u001b[1;33m,\u001b[0m\u001b[1;36m33\u001b[0m\u001b[1;33m,\u001b[0m\u001b[1;36m59\u001b[0m\u001b[1;33m)\u001b[0m\u001b[1;33m)\u001b[0m\u001b[1;33m\u001b[0m\u001b[1;33m\u001b[0m\u001b[0m\n\u001b[0m\u001b[0;32m      3\u001b[0m \u001b[0mprint\u001b[0m\u001b[1;33m(\u001b[0m\u001b[0mp2_fucntion\u001b[0m\u001b[1;33m(\u001b[0m\u001b[1;36m36\u001b[0m\u001b[1;33m,\u001b[0m\u001b[1;36m25\u001b[0m\u001b[1;33m,\u001b[0m\u001b[1;36m16\u001b[0m\u001b[1;33m)\u001b[0m\u001b[1;33m)\u001b[0m\u001b[1;33m\u001b[0m\u001b[1;33m\u001b[0m\u001b[0m\n",
      "\u001b[1;31mNameError\u001b[0m: name 'p2_fucntion' is not defined"
     ]
    }
   ],
   "source": [
    "print(p2_function(1,2,3))\n",
    "print(p2_fucntion(5,33,59))\n",
    "print(p2_fucntion(36,25,16))"
   ]
  },
  {
   "cell_type": "markdown",
   "metadata": {
    "id": "dhtIQXD-MLtn"
   },
   "source": [
    "3: Write a function that takes one integer input, and outputs *a list* of all prime numbers from 1 to that input"
   ]
  },
  {
   "cell_type": "code",
   "execution_count": null,
   "metadata": {
    "id": "_77UXsEmMLtn"
   },
   "outputs": [],
   "source": [
    "#your code here"
   ]
  },
  {
   "cell_type": "code",
   "execution_count": null,
   "metadata": {
    "id": "7wCcr8b0MLtn"
   },
   "outputs": [],
   "source": [
    "print(prime_finder(10))\n",
    "print(prime_finder(2000))"
   ]
  },
  {
   "cell_type": "markdown",
   "metadata": {
    "id": "q2t3qro_MLto"
   },
   "source": [
    "## Solutions"
   ]
  },
  {
   "cell_type": "markdown",
   "metadata": {
    "id": "CaGhRj4RMLto"
   },
   "source": [
    "1:\n",
    "Write a function that takes a list of strings and prints out the number of strings that start with 'n', 's', 'l', or 'c'."
   ]
  },
  {
   "cell_type": "code",
   "execution_count": null,
   "metadata": {
    "id": "79GpTq2pMLto",
    "outputId": "6740b1d5-3be8-4e23-bc89-b67522c7abf8"
   },
   "outputs": [
    {
     "name": "stdout",
     "output_type": "stream",
     "text": [
      "There are 6 words that start with 'n'\n",
      "There are 13 words that start with 's'\n",
      "There are 1 words that start with 'l'\n",
      "There are 3 words that start with 'c'\n"
     ]
    }
   ],
   "source": [
    "#use this list\n",
    "p1_list = ['a', 'about', 'above', 'after', 'again', 'against', 'ain', 'all', 'am', 'an', 'and', 'any', 'are', 'aren', \"aren't\", 'as', 'at', 'be', 'because', 'been', 'before', 'being', 'below', 'between', 'both', 'but', 'by', 'can', 'couldn', \"couldn't\", 'd', 'did', 'didn', \"didn't\", 'do', 'does', 'doesn', \"doesn't\", 'doing', 'don', \"don't\", 'down', 'during', 'each', 'few', 'for', 'from', 'further', 'had', 'hadn', \"hadn't\", 'has', 'hasn', \"hasn't\", 'have', 'haven', \"haven't\", 'having', 'he', 'her', 'here', 'hers', 'herself', 'him', 'himself', 'his', 'how', 'i', 'if', 'in', 'into', 'is', 'isn', \"isn't\", 'it', \"it's\", 'its', 'itself', 'just', 'll', 'm', 'ma', 'me', 'mightn', \"mightn't\", 'more', 'most', 'mustn', \"mustn't\", 'my', 'myself', 'needn', \"needn't\", 'no', 'nor', 'not', 'now', 'o', 'of', 'off', 'on', 'once', 'only', 'or', 'other', 'our', 'ours', 'ourselves', 'out', 'over', 'own', 're', 's', 'same', 'shan', \"shan't\", 'she', \"she's\", 'should', \"should've\", 'shouldn', \"shouldn't\", 'so', 'some', 'such', 't', 'than', 'that', \"that'll\", 'the', 'their', 'theirs', 'them', 'themselves', 'then', 'there', 'these', 'they', 'this', 'those', 'through', 'to', 'too', 'under', 'until', 'up', 've', 'very', 'was', 'wasn', \"wasn't\", 'we', 'were', 'weren', \"weren't\", 'what', 'when', 'where', 'which', 'while', 'who', 'whom', 'why', 'will', 'with', 'won', \"won't\", 'wouldn', \"wouldn't\", 'y', 'you', \"you'd\", \"you'll\", \"you're\", \"you've\", 'your', 'yours', 'yourself', 'yourselves']\n",
    "\n",
    "def p1_function(this_list):\n",
    "    #vvv your code here vvv\n",
    "    n,s,l,c = 0,0,0,0 #defines multiple variables at once to save space\n",
    "    for some_string in this_list:\n",
    "        char = some_string[0]\n",
    "        if char == 'n':\n",
    "            n += 1\n",
    "        elif char == 's':\n",
    "            s += 1\n",
    "        elif char == 'l':\n",
    "            l += 1\n",
    "        elif char == 'c':\n",
    "            c += 1\n",
    "    print('There are', n, \"words that start with 'n'\")\n",
    "    print('There are', s, \"words that start with 's'\")\n",
    "    print('There are', l, \"words that start with 'l'\")\n",
    "    print('There are', c, \"words that start with 'c'\")\n",
    "\n",
    "    #^^^ your code here ^^^\n",
    "    #you do not need a return statement\n",
    "\n",
    "p1_function(p1_list)"
   ]
  },
  {
   "cell_type": "code",
   "execution_count": null,
   "metadata": {
    "id": "eqPomgTvMLto"
   },
   "outputs": [],
   "source": [
    "def p2_function(a,b,c):\n",
    "    if a > b and a > c:#a is the largest\n",
    "        return a-b-c\n",
    "    elif b > a and b > c:#b is the largest\n",
    "        return b-a-c\n",
    "    elif c > a and c > b:\n",
    "        return c-a-b\n",
    "    else:\n",
    "        print('error')\n",
    "        return 1\n",
    "    "
   ]
  },
  {
   "cell_type": "markdown",
   "metadata": {
    "id": "5MoepTsgMLtp"
   },
   "source": [
    "2: Write a function that takes three numbers, and returns the value that is the hightest minues the other two. Assume all inputs will be different"
   ]
  },
  {
   "cell_type": "code",
   "execution_count": null,
   "metadata": {
    "id": "ALkLvv1AMLtp",
    "outputId": "6f4cf41b-7aab-4960-8f25-15df15f9dbc6"
   },
   "outputs": [
    {
     "ename": "NameError",
     "evalue": "name 'p2_function' is not defined",
     "output_type": "error",
     "traceback": [
      "\u001b[1;31m---------------------------------------------------------------------------\u001b[0m",
      "\u001b[1;31mNameError\u001b[0m                                 Traceback (most recent call last)",
      "\u001b[1;32m<ipython-input-11-ec877ff52bd9>\u001b[0m in \u001b[0;36m<module>\u001b[1;34m\u001b[0m\n\u001b[1;32m----> 1\u001b[1;33m \u001b[0mprint\u001b[0m\u001b[1;33m(\u001b[0m\u001b[0mp2_function\u001b[0m\u001b[1;33m(\u001b[0m\u001b[1;36m1\u001b[0m\u001b[1;33m,\u001b[0m\u001b[1;36m2\u001b[0m\u001b[1;33m,\u001b[0m\u001b[1;36m3\u001b[0m\u001b[1;33m)\u001b[0m\u001b[1;33m)\u001b[0m\u001b[1;33m\u001b[0m\u001b[1;33m\u001b[0m\u001b[0m\n\u001b[0m\u001b[0;32m      2\u001b[0m \u001b[0mprint\u001b[0m\u001b[1;33m(\u001b[0m\u001b[0mp2_function\u001b[0m\u001b[1;33m(\u001b[0m\u001b[1;36m5\u001b[0m\u001b[1;33m,\u001b[0m\u001b[1;36m33\u001b[0m\u001b[1;33m,\u001b[0m\u001b[1;36m59\u001b[0m\u001b[1;33m)\u001b[0m\u001b[1;33m)\u001b[0m\u001b[1;33m\u001b[0m\u001b[1;33m\u001b[0m\u001b[0m\n\u001b[0;32m      3\u001b[0m \u001b[0mprint\u001b[0m\u001b[1;33m(\u001b[0m\u001b[0mp2_function\u001b[0m\u001b[1;33m(\u001b[0m\u001b[1;36m36\u001b[0m\u001b[1;33m,\u001b[0m\u001b[1;36m25\u001b[0m\u001b[1;33m,\u001b[0m\u001b[1;36m16\u001b[0m\u001b[1;33m)\u001b[0m\u001b[1;33m)\u001b[0m\u001b[1;33m\u001b[0m\u001b[1;33m\u001b[0m\u001b[0m\n",
      "\u001b[1;31mNameError\u001b[0m: name 'p2_function' is not defined"
     ]
    }
   ],
   "source": [
    "print(p2_function(1,2,3))\n",
    "print(p2_function(5,33,59))\n",
    "print(p2_function(36,25,16))"
   ]
  },
  {
   "cell_type": "markdown",
   "metadata": {
    "id": "gdfVzZ3LMLtp"
   },
   "source": [
    "3: Write a function that takes one integer input, and outputs *a list* of **all** prime numbers from 1 to that input <br>\n",
    "hint: you'll need a for loop inside a for loop"
   ]
  },
  {
   "cell_type": "code",
   "execution_count": null,
   "metadata": {
    "id": "wuV_NsQwMLtp"
   },
   "outputs": [],
   "source": [
    "def prime_finder(n):\n",
    "    prime_list = []\n",
    "    \n",
    "    for j in range(2,n):\n",
    "        j_prime = True\n",
    "        #we only have to check up to half the value of n, becasue anything between that and n could not divide evenly\n",
    "        max_check = j\n",
    "        if n%2 == 0:\n",
    "            max_check = int(j/2) + 1 #int() is forcing the divison to be an integer, so python doesn't get confused\n",
    "        else:\n",
    "            max_check = int((j+1)/2) + 1\n",
    "\n",
    "        for i in range(2,max_check):\n",
    "            if i != j and j%i == 0: #j is ruled out\n",
    "                j_prime = False\n",
    "        if j_prime:\n",
    "            prime_list.append(j)       \n",
    "    \n",
    "    return prime_list"
   ]
  },
  {
   "cell_type": "code",
   "execution_count": null,
   "metadata": {
    "id": "DWBitOLiMLtq",
    "outputId": "a7f3c792-e4a8-4601-fa94-16a575652956"
   },
   "outputs": [
    {
     "name": "stdout",
     "output_type": "stream",
     "text": [
      "[2, 3, 5, 7]\n",
      "[2, 3, 5, 7, 11, 13, 17, 19, 23, 29, 31, 37, 41, 43, 47, 53, 59, 61, 67, 71, 73, 79, 83, 89, 97, 101, 103, 107, 109, 113, 127, 131, 137, 139, 149, 151, 157, 163, 167, 173, 179, 181, 191, 193, 197, 199, 211, 223, 227, 229, 233, 239, 241, 251, 257, 263, 269, 271, 277, 281, 283, 293, 307, 311, 313, 317, 331, 337, 347, 349, 353, 359, 367, 373, 379, 383, 389, 397, 401, 409, 419, 421, 431, 433, 439, 443, 449, 457, 461, 463, 467, 479, 487, 491, 499, 503, 509, 521, 523, 541, 547, 557, 563, 569, 571, 577, 587, 593, 599, 601, 607, 613, 617, 619, 631, 641, 643, 647, 653, 659, 661, 673, 677, 683, 691, 701, 709, 719, 727, 733, 739, 743, 751, 757, 761, 769, 773, 787, 797, 809, 811, 821, 823, 827, 829, 839, 853, 857, 859, 863, 877, 881, 883, 887, 907, 911, 919, 929, 937, 941, 947, 953, 967, 971, 977, 983, 991, 997, 1009, 1013, 1019, 1021, 1031, 1033, 1039, 1049, 1051, 1061, 1063, 1069, 1087, 1091, 1093, 1097, 1103, 1109, 1117, 1123, 1129, 1151, 1153, 1163, 1171, 1181, 1187, 1193, 1201, 1213, 1217, 1223, 1229, 1231, 1237, 1249, 1259, 1277, 1279, 1283, 1289, 1291, 1297, 1301, 1303, 1307, 1319, 1321, 1327, 1361, 1367, 1373, 1381, 1399, 1409, 1423, 1427, 1429, 1433, 1439, 1447, 1451, 1453, 1459, 1471, 1481, 1483, 1487, 1489, 1493, 1499, 1511, 1523, 1531, 1543, 1549, 1553, 1559, 1567, 1571, 1579, 1583, 1597, 1601, 1607, 1609, 1613, 1619, 1621, 1627, 1637, 1657, 1663, 1667, 1669, 1693, 1697, 1699, 1709, 1721, 1723, 1733, 1741, 1747, 1753, 1759, 1777, 1783, 1787, 1789, 1801, 1811, 1823, 1831, 1847, 1861, 1867, 1871, 1873, 1877, 1879, 1889, 1901, 1907, 1913, 1931, 1933, 1949, 1951, 1973, 1979, 1987, 1993, 1997, 1999, 2003, 2011, 2017]\n"
     ]
    }
   ],
   "source": [
    "print(prime_finder(10))\n",
    "print(prime_finder(2020)) #is your birth year prime?"
   ]
  }
 ],
 "metadata": {
  "colab": {
   "name": "Hands on Introduction To Python.ipynb",
   "provenance": []
  },
  "kernelspec": {
   "display_name": "Python 3",
   "language": "python",
   "name": "python3"
  },
  "language_info": {
   "codemirror_mode": {
    "name": "ipython",
    "version": 3
   },
   "file_extension": ".py",
   "mimetype": "text/x-python",
   "name": "python",
   "nbconvert_exporter": "python",
   "pygments_lexer": "ipython3",
   "version": "3.7.6"
  }
 },
 "nbformat": 4,
 "nbformat_minor": 1
}
